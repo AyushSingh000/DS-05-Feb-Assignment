{
 "cells": [
  {
   "cell_type": "code",
   "execution_count": 1,
   "id": "b2c85392-1e22-4252-ae61-e862835ac475",
   "metadata": {},
   "outputs": [
    {
     "data": {
      "text/plain": [
       "'Class and Object are the two fundamental concepts in Object-Oriented Programming (OOP).\\nA Class is a blueprint for creating objects, which defines the structure and behavior of objects. It defines the attributes (data) and methods (functions) that are common to all objects of that type.\\nAn Object is an instance of a class and is used to access the properties and methods of the class. Objects are created from classes and contain the data specific to that object.\\nFor example, consider a class \"Car\" with attributes like \"make\", \"model\", \"year\" and methods like \"start\", \"stop\", \"accelerate\". An object can be created from the class \"Car\", and it could be a specific car, like \"Honda Civic 2021\".\\nIn this example, \"Car\" is the class, and \"Honda Civic 2021\" is the object.'"
      ]
     },
     "execution_count": 1,
     "metadata": {},
     "output_type": "execute_result"
    }
   ],
   "source": [
    "# Answer 1\n",
    "'''Class and Object are the two fundamental concepts in Object-Oriented Programming (OOP).\n",
    "A Class is a blueprint for creating objects, which defines the structure and behavior of objects. It defines the attributes (data) and methods (functions) that are common to all objects of that type.\n",
    "An Object is an instance of a class and is used to access the properties and methods of the class. Objects are created from classes and contain the data specific to that object.\n",
    "For example, consider a class \"Car\" with attributes like \"make\", \"model\", \"year\" and methods like \"start\", \"stop\", \"accelerate\". An object can be created from the class \"Car\", and it could be a specific car, like \"Honda Civic 2021\".\n",
    "In this example, \"Car\" is the class, and \"Honda Civic 2021\" is the object.'''"
   ]
  },
  {
   "cell_type": "code",
   "execution_count": 2,
   "id": "cecc6d8b-1452-40ca-8d87-0e7f6be320c0",
   "metadata": {},
   "outputs": [
    {
     "data": {
      "text/plain": [
       "'The four pillars of Object-Oriented Programming are:\\nEncapsulation\\nAbstraction\\nInheritance\\nPolymorphism'"
      ]
     },
     "execution_count": 2,
     "metadata": {},
     "output_type": "execute_result"
    }
   ],
   "source": [
    "# Answer 2\n",
    "'''The four pillars of Object-Oriented Programming are:\n",
    "Encapsulation\n",
    "Abstraction\n",
    "Inheritance\n",
    "Polymorphism'''"
   ]
  },
  {
   "cell_type": "code",
   "execution_count": 5,
   "id": "0835cccc-cdc1-48c9-8a6d-5b1e5d37ee13",
   "metadata": {},
   "outputs": [
    {
     "name": "stdout",
     "output_type": "stream",
     "text": [
      "Ayush 24\n",
      "Nish 21\n"
     ]
    }
   ],
   "source": [
    "# Answe 3\n",
    "'''The __init__ function is used in Python as a special method for initializing an object when it is created. The __init__ method is called automatically when an object is created from a class, and it allows the class to initialize the attributes of the object.\n",
    "For example, consider a class named Person that stores information about a person, such as their name and age. The __init__ method could be used to initialize these attributes when a new object is created:'''\n",
    "class person:\n",
    "    def __init__(self, name, age):\n",
    "        self.name=name\n",
    "        self.age=age\n",
    "    \n",
    "person1=person('Ayush',24)\n",
    "person2=person('Nish', 21)\n",
    "\n",
    "print(person1.name, person1.age)\n",
    "print(person2.name, person2.age)\n"
   ]
  },
  {
   "cell_type": "code",
   "execution_count": 6,
   "id": "01266ed7-8e86-4729-9fc1-caac779af90d",
   "metadata": {},
   "outputs": [
    {
     "data": {
      "text/plain": [
       "'The self keyword is used in object-oriented programming to reference the instance of the class to which the method belongs. The self parameter is passed to methods automatically when an instance of the class is created, and it refers to the instance of the object on which the method is called. This allows methods to access and modify the attributes and behaviors of the object that is using the method.\\nFor example, if we have a class named Person, the self parameter can be used to refer to the attributes of a specific person object, such as name and age, and to modify them if necessary.'"
      ]
     },
     "execution_count": 6,
     "metadata": {},
     "output_type": "execute_result"
    }
   ],
   "source": [
    "# Answer 4\n",
    "'''The self keyword is used in object-oriented programming to reference the instance of the class to which the method belongs. The self parameter is passed to methods automatically when an instance of the class is created, and it refers to the instance of the object on which the method is called. This allows methods to access and modify the attributes and behaviors of the object that is using the method.\n",
    "For example, if we have a class named Person, the self parameter can be used to refer to the attributes of a specific person object, such as name and age, and to modify them if necessary.'''"
   ]
  },
  {
   "cell_type": "code",
   "execution_count": 7,
   "id": "02a0ca58-15cc-413f-bf2b-91b648ac1617",
   "metadata": {},
   "outputs": [
    {
     "data": {
      "text/plain": [
       "'Inheritance is a mechanism in object-oriented programming (OOP) where a child class can inherit the properties and behaviors of a parent class. This allows for the creation of new classes that are modifications of existing classes, without having to modify the existing class.\\nThere are three main types of inheritance in OOP:\\nSingle inheritance: In single inheritance, a child class inherits the properties and behaviors of a single parent class.\\nExample: Class B is derived from Class A.\\nMulti-level inheritance: In multi-level inheritance, a child class inherits from a parent class, which in turn inherits from another parent class.\\nExample: Class C is derived from Class B and Class B is derived from Class A.\\nMultiple inheritance: In multiple inheritance, a child class inherits from multiple parent classes.\\nExample: Class D is derived from Class A and Class B.'"
      ]
     },
     "execution_count": 7,
     "metadata": {},
     "output_type": "execute_result"
    }
   ],
   "source": [
    "# Answer 5\n",
    "'''Inheritance is a mechanism in object-oriented programming (OOP) where a child class can inherit the properties and behaviors of a parent class. This allows for the creation of new classes that are modifications of existing classes, without having to modify the existing class.\n",
    "There are three main types of inheritance in OOP:\n",
    "Single inheritance: In single inheritance, a child class inherits the properties and behaviors of a single parent class.\n",
    "Example: Class B is derived from Class A.\n",
    "Multi-level inheritance: In multi-level inheritance, a child class inherits from a parent class, which in turn inherits from another parent class.\n",
    "Example: Class C is derived from Class B and Class B is derived from Class A.\n",
    "Multiple inheritance: In multiple inheritance, a child class inherits from multiple parent classes.\n",
    "Example: Class D is derived from Class A and Class B.'''"
   ]
  },
  {
   "cell_type": "code",
   "execution_count": null,
   "id": "4d727e1f-d942-4b28-805b-ff7898060a79",
   "metadata": {},
   "outputs": [],
   "source": []
  },
  {
   "cell_type": "code",
   "execution_count": null,
   "id": "3ab40aff-2b83-40ec-a0bf-848d0ee730c1",
   "metadata": {},
   "outputs": [],
   "source": []
  }
 ],
 "metadata": {
  "kernelspec": {
   "display_name": "Python 3 (ipykernel)",
   "language": "python",
   "name": "python3"
  },
  "language_info": {
   "codemirror_mode": {
    "name": "ipython",
    "version": 3
   },
   "file_extension": ".py",
   "mimetype": "text/x-python",
   "name": "python",
   "nbconvert_exporter": "python",
   "pygments_lexer": "ipython3",
   "version": "3.10.8"
  }
 },
 "nbformat": 4,
 "nbformat_minor": 5
}
